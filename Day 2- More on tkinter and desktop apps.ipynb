{
 "cells": [
  {
   "cell_type": "code",
   "execution_count": 3,
   "metadata": {},
   "outputs": [],
   "source": [
    "def getLCM(x,y):\n",
    "    lcm=max([x,y])\n",
    "    while True:\n",
    "        if lcm%x==0 and lcm%y==0:\n",
    "            return lcm\n",
    "\n",
    "        else:\n",
    "            lcm +=1\n",
    "    "
   ]
  },
  {
   "cell_type": "code",
   "execution_count": 4,
   "metadata": {},
   "outputs": [
    {
     "data": {
      "text/plain": [
       "20"
      ]
     },
     "execution_count": 4,
     "metadata": {},
     "output_type": "execute_result"
    }
   ],
   "source": [
    "getLCM(4,10)"
   ]
  },
  {
   "cell_type": "code",
   "execution_count": 5,
   "metadata": {},
   "outputs": [
    {
     "data": {
      "text/plain": [
       "150"
      ]
     },
     "execution_count": 5,
     "metadata": {},
     "output_type": "execute_result"
    }
   ],
   "source": [
    "getLCM(30,25)"
   ]
  },
  {
   "cell_type": "code",
   "execution_count": 6,
   "metadata": {},
   "outputs": [],
   "source": [
    "from functools import reduce"
   ]
  },
  {
   "cell_type": "code",
   "execution_count": 7,
   "metadata": {},
   "outputs": [
    {
     "data": {
      "text/plain": [
       "120"
      ]
     },
     "execution_count": 7,
     "metadata": {},
     "output_type": "execute_result"
    }
   ],
   "source": [
    "reduce(getLCM,[3,10,4,12,40])"
   ]
  },
  {
   "cell_type": "code",
   "execution_count": 8,
   "metadata": {},
   "outputs": [],
   "source": [
    "from tkinter import *"
   ]
  },
  {
   "cell_type": "code",
   "execution_count": 18,
   "metadata": {},
   "outputs": [],
   "source": [
    "root = Tk(className=\" LCM calculator\")\n",
    "\n",
    "f1=Frame(root)\n",
    "f1.pack()\n",
    "f2=Frame(root)\n",
    "f2.pack()\n",
    "f3=Frame(root)\n",
    "f3.pack()\n",
    "f4=Frame(root)\n",
    "f4.pack()\n",
    "\n",
    "Label(f1,text=\"Number one\").pack(side=LEFT)\n",
    "Entry(f1).pack()\n",
    "Label(f2,text=\"Number Two\").pack(side=LEFT)\n",
    "Entry(f2).pack()\n",
    "Button(f3,text=\"Compute LCM\").pack(side=LEFT)\n",
    "Label(f4,text=\"Result\").pack(side=LEFT)\n",
    "Label(f4,text=\"34\").pack()\n",
    "\n",
    "\n",
    "\n",
    "\n",
    "\n",
    "root.mainloop()"
   ]
  },
  {
   "cell_type": "code",
   "execution_count": 27,
   "metadata": {},
   "outputs": [
    {
     "name": "stdout",
     "output_type": "stream",
     "text": [
      "Clicked\n",
      "Clicked\n",
      "Clicked\n",
      "Clicked\n"
     ]
    }
   ],
   "source": [
    "def compute():\n",
    "    print(\"Clicked\")\n",
    "root = Tk(className=\" LCM calculator\")\n",
    "root.geometry(\"300x150\")\n",
    "f1=Frame(root)\n",
    "f1.pack()\n",
    "f2=Frame(root)\n",
    "f2.pack()\n",
    "f3=Frame(root)\n",
    "f3.pack()\n",
    "f4=Frame(root)\n",
    "f4.pack()\n",
    "\n",
    "Label(f1,text=\"Number one\").pack(side=LEFT)\n",
    "Entry(f1).pack()\n",
    "Label(f2,text=\"Number Two\").pack(side=LEFT)\n",
    "Entry(f2).pack()\n",
    "Button(f3,text=\"Compute LCM\", command=compute).pack(side=LEFT)\n",
    "Label(f4,text=\"Result\").pack(side=LEFT)\n",
    "Label(f4,text=\"34\").pack()\n",
    "\n",
    "\n",
    "\n",
    "\n",
    "\n",
    "root.mainloop()"
   ]
  },
  {
   "cell_type": "code",
   "execution_count": 36,
   "metadata": {},
   "outputs": [],
   "source": [
    "def lcm_(x,y):\n",
    "    lcm=max([x,y])\n",
    "    while True:\n",
    "        if lcm%x==0 and lcm%y==0:\n",
    "            return lcm\n",
    "\n",
    "        else:\n",
    "            lcm +=1\n",
    "    \n",
    "def compute():\n",
    "    n1=int(entry1.get())\n",
    "    n2=int(entry2.get())\n",
    "    print(lcm_(n1,n2))\n",
    "\n",
    "root = Tk(className=\" LCM calculator\")\n",
    "root.geometry(\"300x150\")\n",
    "f1=Frame(root)\n",
    "f1.pack()\n",
    "f2=Frame(root)\n",
    "f2.pack()\n",
    "f3=Frame(root)\n",
    "f3.pack()\n",
    "f4=Frame(root)\n",
    "f4.pack()\n",
    "\n",
    "Label(f1,text=\"Number one\").pack(side=LEFT)\n",
    "entry1=Entry(f1)\n",
    "entry1.pack()\n",
    "Label(f2,text=\"Number Two\").pack(side=LEFT)\n",
    "entry2=Entry(f2)\n",
    "entry2.pack()\n",
    "Button(f3,text=\"Compute LCM\", command=compute).pack(side=LEFT)\n",
    "Label(f4,text=\"Result\").pack(side=LEFT)\n",
    "Label(f4,text=\"34\").pack()\n",
    "\n",
    "\n",
    "\n",
    "\n",
    "\n",
    "root.mainloop()"
   ]
  },
  {
   "cell_type": "code",
   "execution_count": 35,
   "metadata": {},
   "outputs": [],
   "source": [
    "def lcm_(x,y):\n",
    "    lcm=max([x,y])\n",
    "    while True:\n",
    "        if lcm%x==0 and lcm%y==0:\n",
    "            return lcm\n",
    "\n",
    "        else:\n",
    "            lcm +=1\n",
    "    \n",
    "def compute():\n",
    "    n1=int(entry1.get())\n",
    "    n2=int(entry2.get())\n",
    "    result[\"text\"]=str(lcm_(n1,n2))\n",
    "\n",
    "root = Tk(className=\" LCM calculator\")\n",
    "root.geometry(\"300x150\")\n",
    "f1=Frame(root)\n",
    "f1.pack()\n",
    "f2=Frame(root)\n",
    "f2.pack()\n",
    "f3=Frame(root)\n",
    "f3.pack()\n",
    "f4=Frame(root)\n",
    "f4.pack()\n",
    "\n",
    "Label(f1,text=\"Number one\").pack(side=LEFT)\n",
    "entry1=Entry(f1)\n",
    "entry1.pack()\n",
    "Label(f2,text=\"Number Two\").pack(side=LEFT)\n",
    "entry2=Entry(f2)\n",
    "entry2.pack()\n",
    "Button(f3,text=\"Compute LCM\", command=compute).pack(side=LEFT)\n",
    "Label(f4,text=\"Result\").pack(side=LEFT)\n",
    "result=Label(f4)\n",
    "result.pack()\n",
    "\n",
    "root.mainloop()"
   ]
  },
  {
   "cell_type": "code",
   "execution_count": 38,
   "metadata": {},
   "outputs": [],
   "source": [
    "def lcm_(x,y):\n",
    "    lcm=max([x,y])\n",
    "    while True:\n",
    "        if lcm%x==0 and lcm%y==0:\n",
    "            return lcm\n",
    "        else:\n",
    "            lcm +=1\n",
    "\n",
    "            \n",
    "def compute():\n",
    "    n1=int(entry1.get())\n",
    "    n2=int(entry2.get())\n",
    "    result[\"text\"]=\"Result: \"+str(lcm_(n1,n2))\n",
    "\n",
    "root = Tk(className=\" LCM calculator\")\n",
    "root.geometry(\"300x150\")\n",
    "f1=Frame(root)\n",
    "f1.pack()\n",
    "f2=Frame(root)\n",
    "f2.pack()\n",
    "f3=Frame(root)\n",
    "f3.pack()\n",
    "f4=Frame(root)\n",
    "f4.pack()\n",
    "\n",
    "Label(f1,text=\"Number one\").pack(side=LEFT)\n",
    "entry1=Entry(f1)\n",
    "entry1.pack()\n",
    "Label(f2,text=\"Number Two\").pack(side=LEFT)\n",
    "entry2=Entry(f2)\n",
    "entry2.pack()\n",
    "Button(f3,text=\"Compute LCM\", command=compute).pack(side=LEFT)\n",
    "result=Label(f4)\n",
    "result.pack()\n",
    "\n",
    "root.mainloop()"
   ]
  },
  {
   "cell_type": "code",
   "execution_count": 63,
   "metadata": {},
   "outputs": [],
   "source": [
    "master = Tk(className=\" My Perfect Game\")\n",
    "master.config(bg=\"sky blue\")\n",
    "caption = Label(master,text=\"My Perfect Game\")\n",
    "caption.pack()\n",
    "result = Label(master,text=\"6\",\n",
    "               font=\"times 50 bold\",\n",
    "               bd=20,relief=\"raised\",\n",
    "               bg=\"grey\"\n",
    "              )\n",
    "result.pack()\n",
    "Button(master,text=\"Play\",\n",
    "       font=\"times 20 bold\",\n",
    "       bd=10,relief=\"raised\").pack()\n",
    "master.mainloop()\n"
   ]
  },
  {
   "cell_type": "code",
   "execution_count": 73,
   "metadata": {},
   "outputs": [],
   "source": [
    "from random import randint\n",
    "def roll():\n",
    "    r= randint(1,6)\n",
    "    result[\"text\"]=str(r)\n",
    "    \n",
    "master = Tk(className=\" My Perfect Game\")\n",
    "master.config(bg=\"sky blue\")\n",
    "master.geometry(\"500x400\")\n",
    "caption = Label(master,text=\"My Perfect Game\")\n",
    "caption.pack()\n",
    "result = Label(master,text=\" \",\n",
    "               font=\"times 50 bold\",\n",
    "               bd=20,relief=\"raised\",\n",
    "               bg=\"grey\"\n",
    "              )\n",
    "result.pack()\n",
    "Button(master,text=\"Play\",\n",
    "       font=\"times 20 bold\",\n",
    "       bd=10,relief=\"raised\",command=roll).pack(pady=30)\n",
    "master.mainloop()\n"
   ]
  },
  {
   "cell_type": "markdown",
   "metadata": {},
   "source": [
    "## Assignment"
   ]
  },
  {
   "cell_type": "markdown",
   "metadata": {},
   "source": [
    "* Sketch an interface and document the fuctionalities of a desktop app you wish to create\n",
    "* create a desktop that randomly change color when a button is click\n",
    "* create an app that takes stwo numbers and performs addition, subtraction,multiplication and division.There should different buttons for each of the functionalities"
   ]
  },
  {
   "cell_type": "code",
   "execution_count": 86,
   "metadata": {},
   "outputs": [],
   "source": [
    "master = Tk()\n",
    "\n",
    "Label(master,text=\"Amount\").grid(row=1,column=0)\n",
    "Entry(master).grid(row=1,column=1)\n",
    "\n",
    "Label(master,text=\"Description\").grid(row=2,\n",
    "                                    column=0,\n",
    "                                    sticky=N)\n",
    "Text(master,width=20,height=5).grid(row=2,column=1)\n",
    "master.mainloop()"
   ]
  },
  {
   "cell_type": "markdown",
   "metadata": {},
   "source": [
    "* Complete the interface above by including a button with  text of __save__. When clicked, take the content of the amount and description and save to a file. The file should be updated when ever new values are entered. The format of each line of the file is : __amount,description__"
   ]
  },
  {
   "cell_type": "code",
   "execution_count": null,
   "metadata": {},
   "outputs": [],
   "source": []
  }
 ],
 "metadata": {
  "kernelspec": {
   "display_name": "Python 3",
   "language": "python",
   "name": "python3"
  },
  "language_info": {
   "codemirror_mode": {
    "name": "ipython",
    "version": 3
   },
   "file_extension": ".py",
   "mimetype": "text/x-python",
   "name": "python",
   "nbconvert_exporter": "python",
   "pygments_lexer": "ipython3",
   "version": "3.7.3"
  }
 },
 "nbformat": 4,
 "nbformat_minor": 2
}
